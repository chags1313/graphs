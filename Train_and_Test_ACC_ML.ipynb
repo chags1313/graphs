{
  "cells": [
    {
      "cell_type": "markdown",
      "metadata": {
        "id": "view-in-github",
        "colab_type": "text"
      },
      "source": [
        "<a href=\"https://colab.research.google.com/github/chags1313/graphs/blob/main/Train_and_Test_ACC_ML.ipynb\" target=\"_parent\"><img src=\"https://colab.research.google.com/assets/colab-badge.svg\" alt=\"Open In Colab\"/></a>"
      ]
    },
    {
      "cell_type": "markdown",
      "metadata": {
        "id": "tW7q-VcltBme"
      },
      "source": [
        "# 📈 Train and Test ACC ML: An example machine learning script for human activity recognition 🤾‍♀️"
      ]
    },
    {
      "cell_type": "markdown",
      "metadata": {
        "id": "GhcLyhcttVqL"
      },
      "source": [
        "Install pycaret amd shap\n",
        "- Pycaret is a machine learning library\n",
        "- For more information, check out the documentation https://pycaret.readthedocs.io/en/latest/\n",
        "- Shap is a model explanation library\n",
        "- **When installation finishes, watch for a button called 'restart runtime'**\n",
        "- **Click this button then proceed to run next cells**"
      ]
    },
    {
      "cell_type": "code",
      "execution_count": null,
      "metadata": {
        "id": "k0hJtD75SvLX",
        "collapsed": true
      },
      "outputs": [],
      "source": [
        "!pip install shap\n",
        "!pip install pycaret"
      ]
    },
    {
      "cell_type": "markdown",
      "source": [
        "# Data Prep"
      ],
      "metadata": {
        "id": "Fn0Bdb5l4Wja"
      }
    },
    {
      "cell_type": "markdown",
      "metadata": {
        "id": "5782Ute3tkkt"
      },
      "source": [
        "Import libraries"
      ]
    },
    {
      "cell_type": "code",
      "execution_count": null,
      "metadata": {
        "id": "ALxGcWhWSxo9"
      },
      "outputs": [],
      "source": [
        "from pycaret.classification import *\n",
        "import pandas as pd\n",
        "import numpy as np\n",
        "import plotly.express as px\n",
        "from google.colab import files\n",
        "import io\n",
        "import shap\n",
        "import logging\n",
        "import sys\n",
        "logging.disable(sys.maxsize)\n",
        "print(\"Imported libraries - you may proceed to the next cell\")"
      ]
    },
    {
      "cell_type": "markdown",
      "source": [
        "Read in your training data file \n",
        "- This should be one of the two experiments you performed with 3 different activities\n",
        "- This file will be used to train a model to identify the activities you performed from the accelerometer data"
      ],
      "metadata": {
        "id": "-9M48ZB9viUW"
      }
    },
    {
      "cell_type": "code",
      "source": [
        "uploaded = files.upload()\n",
        "df = pd.read_csv(list(uploaded.keys())[0].strip(\"\"))\n",
        "df.describe()"
      ],
      "metadata": {
        "id": "7HTId06xgMPq"
      },
      "execution_count": null,
      "outputs": []
    },
    {
      "cell_type": "markdown",
      "source": [
        "Visualize raw acceleration data by three axes over time"
      ],
      "metadata": {
        "id": "t5SQYeLPlhcA"
      }
    },
    {
      "cell_type": "code",
      "source": [
        "px.line(df,x='Time (s)',y = ['Acceleration x (m/s^2)', 'Acceleration y (m/s^2)', 'Acceleration z (m/s^2)'])"
      ],
      "metadata": {
        "id": "7DY5BuRolE4O"
      },
      "execution_count": null,
      "outputs": []
    },
    {
      "cell_type": "markdown",
      "source": [
        "Visualize absolute acceleration (averge of all axes) over time"
      ],
      "metadata": {
        "id": "LX1Eu2M_oLhb"
      }
    },
    {
      "cell_type": "code",
      "source": [
        "px.line(df, x= 'Time (s)', y = ['Absolute acceleration (m/s^2)'])"
      ],
      "metadata": {
        "id": "1atTu-q1mZZT"
      },
      "execution_count": null,
      "outputs": []
    },
    {
      "cell_type": "markdown",
      "source": [
        "# Activity Annotation"
      ],
      "metadata": {
        "id": "KlNOHOUc4g5O"
      }
    },
    {
      "cell_type": "markdown",
      "source": [
        "Answer the prompts below to identify when your activities took place\n",
        "- The following code will provide an input \n",
        "- Fill in the input with the correct information\n",
        "- Your activity name should match the activities you performed\n",
        "- Your activities start and end times should match the time in seconds as presented in the graphs above or match times in seconds that you noted while performing\n",
        "- **Run the cell when all information is correct**"
      ],
      "metadata": {
        "id": "eDjLX6CToXi3"
      }
    },
    {
      "cell_type": "markdown",
      "source": [
        "***Activity 1***"
      ],
      "metadata": {
        "id": "uH6k3mEc5VgE"
      }
    },
    {
      "cell_type": "code",
      "source": [
        "Activity_1 = \"Sitting\" #@param {type:\"string\"}\n",
        "Activity_1_Start_Time = 2 #@param {type:\"number\"}\n",
        "Activity_1_Finish_Time = 142 #@param {type:\"number\"}"
      ],
      "metadata": {
        "cellView": "form",
        "id": "BFkBbxlEpNrf"
      },
      "execution_count": null,
      "outputs": []
    },
    {
      "cell_type": "markdown",
      "source": [
        "***Activity 2***"
      ],
      "metadata": {
        "id": "ggbVSbjg5aJa"
      }
    },
    {
      "cell_type": "code",
      "source": [
        "Activity_2 = \"Standing\" #@param {type:\"string\"}\n",
        "Activity_2_Start_Time = 150 #@param {type:\"number\"}\n",
        "Activity_2_Finish_Time = 210 #@param {type:\"number\"}"
      ],
      "metadata": {
        "cellView": "form",
        "id": "-SlP1gmvp4hU"
      },
      "execution_count": null,
      "outputs": []
    },
    {
      "cell_type": "markdown",
      "source": [
        "***Activity 3***"
      ],
      "metadata": {
        "id": "S41Eks7A5n9k"
      }
    },
    {
      "cell_type": "code",
      "source": [
        "Activity_3 = \"Walking\" #@param {type:\"string\"}\n",
        "Activity_3_Start_Time = 215 #@param {type:\"number\"}\n",
        "Activity_3_Finish_Time = 350 #@param {type:\"number\"}"
      ],
      "metadata": {
        "cellView": "form",
        "id": "mVofZotfqRLK"
      },
      "execution_count": null,
      "outputs": []
    },
    {
      "cell_type": "code",
      "source": [
        "df['class'] = 'NAN'\n",
        "df['class'] = np.where(df['Time (s)'].between(Activity_1_Start_Time,Activity_1_Finish_Time), Activity_1, 0)\n",
        "df['class'] = np.where(df['Time (s)'].between(Activity_2_Start_Time,Activity_2_Finish_Time), Activity_2, df['class'])\n",
        "df['class'] = np.where(df['Time (s)'].between(Activity_3_Start_Time,Activity_3_Finish_Time), Activity_3, df['class'])\n",
        "df = df[df['class'] != 'NAN']\n",
        "df = df[df['class'] != '0']\n",
        "px.scatter(df,x = 'Time (s)', y = 'class', color = 'class')"
      ],
      "metadata": {
        "id": "YfwUMrFFk5rB"
      },
      "execution_count": null,
      "outputs": []
    },
    {
      "cell_type": "markdown",
      "source": [
        "Plot absolute acceleration over time colored by activity"
      ],
      "metadata": {
        "id": "IS6IdGE0QKCP"
      }
    },
    {
      "cell_type": "code",
      "execution_count": null,
      "metadata": {
        "id": "AdVgqwitlNWn"
      },
      "outputs": [],
      "source": [
        "px.scatter(df, x = 'Time (s)', y = 'Absolute acceleration (m/s^2)', color = 'class')"
      ]
    },
    {
      "cell_type": "markdown",
      "source": [
        "View the distribution of absolute acceleration by each activity "
      ],
      "metadata": {
        "id": "j5FV68AvRcBs"
      }
    },
    {
      "cell_type": "code",
      "execution_count": null,
      "metadata": {
        "id": "a5zYXrLUaHVN"
      },
      "outputs": [],
      "source": [
        "px.histogram(df,x='Absolute acceleration (m/s^2)', color = 'class')"
      ]
    },
    {
      "cell_type": "markdown",
      "source": [
        "Display features in relation to each activity"
      ],
      "metadata": {
        "id": "20S6wrRVhNI5"
      }
    },
    {
      "cell_type": "code",
      "source": [
        "pc_df = df.copy()\n",
        "classes = df['class'].unique()\n",
        "pc_df['class'] = pc_df['class'].replace(classes[0], 0)\n",
        "pc_df['class'] = pc_df['class'].replace(classes[1], 1)\n",
        "pc_df['class'] = pc_df['class'].replace(classes[2], 2)\n",
        "print(\"Classes: \" + \" //CLASS 0 = \" + classes[0] + \" //CLASS 1 = \" + classes[1] + \" //CLASS 2 = \" + classes[2])\n",
        "pc = px.parallel_coordinates(pc_df.drop(['Time (s)'], axis = 1), \n",
        "                             color = 'class',title='How do our features [acceleration x,y,z] relate to your classes?', \n",
        "                             width=1300)\n",
        "pc.show()"
      ],
      "metadata": {
        "id": "9Oct5oD4fRLA"
      },
      "execution_count": null,
      "outputs": []
    },
    {
      "cell_type": "markdown",
      "metadata": {
        "id": "l9FgxTMduRp_"
      },
      "source": [
        "# Model Training\n",
        "\n",
        "For more advanced machine learning data prep, check out the documentation:\n",
        "https://pycaret.readthedocs.io/en/latest/api/classification.html\n",
        "\n",
        "Steps for model training\n",
        "1. Setup up data\n",
        "2. Compare models and performance metrics\n",
        "3. Evaluate model\n",
        "4. Apply model to new, unseen data"
      ]
    },
    {
      "cell_type": "code",
      "execution_count": null,
      "metadata": {
        "id": "Ca3tI_mSncKU",
        "collapsed": true
      },
      "outputs": [],
      "source": [
        "exp = setup(df.drop(['Time (s)'], axis = 1), target = 'class', silent=True, profile = True)"
      ]
    },
    {
      "cell_type": "markdown",
      "source": [
        "Assess multiple models to understand which perform the best with our data and saving the top model"
      ],
      "metadata": {
        "id": "-yBwApQ6b30U"
      }
    },
    {
      "cell_type": "code",
      "execution_count": null,
      "metadata": {
        "id": "NBb4UjGznjEu"
      },
      "outputs": [],
      "source": [
        "best = compare_models()"
      ]
    },
    {
      "cell_type": "code",
      "execution_count": null,
      "metadata": {
        "id": "SJ6id0iHoIhp"
      },
      "outputs": [],
      "source": [
        "print(best)"
      ]
    },
    {
      "cell_type": "markdown",
      "source": [
        "Visualize the performance of the model"
      ],
      "metadata": {
        "id": "9zTUXmaNcN9b"
      }
    },
    {
      "cell_type": "code",
      "execution_count": null,
      "metadata": {
        "id": "zHQDELQ5oLGg"
      },
      "outputs": [],
      "source": [
        "evaluate_model(best)"
      ]
    },
    {
      "cell_type": "markdown",
      "source": [
        "# Model Testing\n",
        "Apply your model to unseen data\n",
        "- Add your 2nd activity file\n",
        "- This file should include the same three activities but may include different order or different timimg"
      ],
      "metadata": {
        "id": "7YG0u8nX1sAT"
      }
    },
    {
      "cell_type": "code",
      "source": [
        "TEST_FILE = files.upload()\n",
        "TEST = pd.read_csv('Raw Data (1).csv')\n",
        "TEST"
      ],
      "metadata": {
        "id": "0bAK_XIXsCrD"
      },
      "execution_count": null,
      "outputs": []
    },
    {
      "cell_type": "code",
      "source": [
        "predictions = predict_model(best, data = TEST)\n",
        "predictions"
      ],
      "metadata": {
        "id": "I6uxmkFdsjM_"
      },
      "execution_count": null,
      "outputs": []
    },
    {
      "cell_type": "code",
      "source": [
        "import matplotlib\n",
        "shap.initjs()\n",
        "Prediction_Second = 0 #@param {type:\"slider\", min:0, max:1000, step:1}\n",
        "Your_Name = \"Cole\" #@param {type:\"string\"}\n",
        "title_str = Your_Name + \"'s model predictions on test data\"\n",
        "second_in_predictions = predictions[predictions['Time (s)'] > float(Prediction_Second)-0.1]\n",
        "second_in_predictions = second_in_predictions[second_in_predictions['Time (s)'] < float(Prediction_Second)+0.1]\n",
        "Prediction = second_in_predictions['Label'].iloc[0]\n",
        "lab = str(Your_Name) + \"'s Model Predicted \" + str(Prediction) + \" at \" + str(Prediction_Second) + \" seconds\"\n",
        "fig = px.scatter(predictions, \n",
        "                 x = 'Time (s)', \n",
        "                 y = 'Absolute acceleration (m/s^2)', \n",
        "                 color = 'Label', \n",
        "                 title = lab,\n",
        "                 color_discrete_sequence=[\"#F1948A\", \"#48C9B0\", \"#85C1E9\"])\n",
        "fig.add_vline(x=Prediction_Second , line_dash=\"dot\",\n",
        "              annotation_text=\"Time of Prediciton Analyzed - the variables listed below identify what influenced this prediciton\", \n",
        "              annotation_position=\"top right\",\n",
        "              annotation_font_size=10,\n",
        "              annotation_font_color=\"purple\"\n",
        "             )\n",
        "fig.show()\n",
        "if Prediction == predictions['Label'].unique()[0]:\n",
        "  cr1 = \"#FF0000\"\n",
        "  cr2 = \"#F1948A\"\n",
        "if Prediction == predictions['Label'].unique()[1]:\n",
        "  cr1 = \"#48C9B0\"\n",
        "  cr2 = '#186A3B'\n",
        "if Prediction == predictions['Label'].unique()[2]:\n",
        "  cr1 = \"#0000FF\"\n",
        "  cr2 = \"#85C1E9\"\n",
        "explainer = shap.KernelExplainer(model = best.predict_proba, data = get_config('X_train'), link = \"identity\")\n",
        "shap_value_single = explainer.shap_values(X = predictions.drop(['Label', 'Score', 'Time (s)'], axis=1).iloc[second_in_predictions.index[0]], nsamples = 10)\n",
        "shap.force_plot(base_value = explainer.expected_value[0],\n",
        "                shap_values = shap_value_single[0],\n",
        "                features = predictions.drop(['Label', 'Score', 'Time (s)'], axis=1).iloc[second_in_predictions.index[0]],\n",
        "                 plot_cmap=[cr1,cr2]\n",
        "                )\n"
      ],
      "metadata": {
        "cellView": "form",
        "id": "f0azcOjiVw3R"
      },
      "execution_count": null,
      "outputs": []
    }
  ],
  "metadata": {
    "colab": {
      "provenance": [],
      "collapsed_sections": [],
      "private_outputs": true,
      "include_colab_link": true
    },
    "kernelspec": {
      "display_name": "Python 3",
      "name": "python3"
    },
    "language_info": {
      "name": "python"
    }
  },
  "nbformat": 4,
  "nbformat_minor": 0
}